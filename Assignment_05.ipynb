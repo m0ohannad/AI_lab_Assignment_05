{
  "nbformat": 4,
  "nbformat_minor": 0,
  "metadata": {
    "colab": {
      "name": "Assignment_05.ipynb",
      "provenance": [],
      "collapsed_sections": [],
      "authorship_tag": "ABX9TyOK2IrYeTdjbsaBNeulUydK",
      "include_colab_link": true
    },
    "kernelspec": {
      "name": "python3",
      "display_name": "Python 3"
    },
    "language_info": {
      "name": "python"
    }
  },
  "cells": [
    {
      "cell_type": "markdown",
      "metadata": {
        "id": "view-in-github",
        "colab_type": "text"
      },
      "source": [
        "<a href=\"https://colab.research.google.com/github/m0ohannad/AI_lab_Assignment_05/blob/main/Assignment_05.ipynb\" target=\"_parent\"><img src=\"https://colab.research.google.com/assets/colab-badge.svg\" alt=\"Open In Colab\"/></a>"
      ]
    },
    {
      "cell_type": "markdown",
      "metadata": {
        "id": "1XePiODO8-rK"
      },
      "source": [
        "# **Q1**"
      ]
    },
    {
      "cell_type": "markdown",
      "metadata": {
        "id": "RK6OSylU9Cj2"
      },
      "source": [
        "1. Create a function called **`strip_characters()`**, which accepts a string argument and:\n",
        "  * Iterates over the **bad_chars** list, using **`str.replace()`** to remove each character.\n",
        "  * Returns the cleaned string.\n",
        "\n",
        "2. Create a function called **`process_date()`** which accepts a string, and follows the logic we outlined above:\n",
        "  * Checks if the dash character (**-**) is in the string so we know if it's a range or not.\n",
        "  * **If it is a range:**\n",
        "    * Splits the string into two strings, before and after the dash character.\n",
        "    * Converts the two numbers to the integer type and then average them by adding them together and dividing by two.\n",
        "    * Uses the **`round()`** function to round the average, so values like **1964.5** become **1964**.\n",
        "  * **If it isn't a range:**\n",
        "    * Converts the value to an integer type.\n",
        "\n",
        "3. Finally, returns the value.\n",
        "\n",
        "4. Create an empty list **processed_test_data**.\n",
        "\n",
        "5. Loop over the **stripped_test_data** list using your **`process_date()`** function. Process the dates and append each processed date back to the **processed_test_data** list.\n",
        "\n",
        "6. Once your code works with the test data, you can then iterate over the **Artworks.csv** list of lists. In each iteration:\n",
        "  * Assign the value from the **Date** column (**index 9**) to a variable.\n",
        "  * Use the **`strip_characters()`** function to remove any bad characters.\n",
        "  * Use the **`process_date()`** to convert the date.\n",
        "  * Assign the stripped and processed value back to the row.\n",
        "\n",
        "\n",
        "\n",
        "```\n",
        "bad_chars = [\"(\",\")\",\"c\",\"C\",\".\",\"s\",\"'\", \" \"]\n",
        "```\n",
        "\n"
      ]
    },
    {
      "cell_type": "code",
      "metadata": {
        "id": "zuSsbmXR7eNd"
      },
      "source": [
        "bad_chars = [\"(\",\")\",\"c\",\"C\",\".\",\"s\",\"'\", \" \"]\n",
        "def strip_characters(string):\n",
        "  for char in bad_chars:\n",
        "    string = string.replace(char, '')\n",
        "  return string\n",
        "\n",
        "def process_date(string):\n",
        "  if '-' in string:\n",
        "    string = string.split('-')\n",
        "    string = (int(string[0]) + int(string[1])) / 2\n",
        "    string = round(string)\n",
        "  else:\n",
        "    string = int(string)\n",
        "  \n",
        "  return string\n",
        "\n",
        "  processed_test_data = []\n",
        "\n",
        "\n",
        "  # لم اكمله\n",
        "  "
      ],
      "execution_count": null,
      "outputs": []
    },
    {
      "cell_type": "code",
      "metadata": {
        "id": "DOr0Eg6virBV"
      },
      "source": [
        ""
      ],
      "execution_count": null,
      "outputs": []
    }
  ]
}